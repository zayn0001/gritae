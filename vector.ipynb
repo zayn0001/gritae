{
 "cells": [
  {
   "cell_type": "code",
   "execution_count": 14,
   "metadata": {},
   "outputs": [
    {
     "data": {
      "text/plain": [
       "True"
      ]
     },
     "execution_count": 14,
     "metadata": {},
     "output_type": "execute_result"
    }
   ],
   "source": [
    "from openai import OpenAI\n",
    "from dotenv import load_dotenv\n",
    "load_dotenv()"
   ]
  },
  {
   "cell_type": "code",
   "execution_count": 20,
   "metadata": {},
   "outputs": [
    {
     "name": "stdout",
     "output_type": "stream",
     "text": [
      "VectorStore(id='vs_0yhzHPvJzcQT66OJ23HtNfRp', created_at=1717766228, file_counts=FileCounts(cancelled=0, completed=0, failed=0, in_progress=0, total=0), last_active_at=1717766228, metadata={}, name='GRITAE2', object='vector_store', status='completed', usage_bytes=0, expires_after=None, expires_at=None)\n"
     ]
    }
   ],
   "source": [
    "client = OpenAI()\n",
    "\n",
    "vector_store = client.beta.vector_stores.create(\n",
    "  name=\"GRITAE2\"\n",
    ")\n",
    "print(vector_store)"
   ]
  },
  {
   "cell_type": "code",
   "execution_count": 16,
   "metadata": {},
   "outputs": [
    {
     "name": "stdout",
     "output_type": "stream",
     "text": [
      "SyncCursorPage[VectorStoreFile](data=[VectorStoreFile(id='file-MUUy46T4HmjR1ylBCit5vpF5', created_at=1717765253, last_error=None, object='vector_store.file', status='completed', usage_bytes=653708, vector_store_id='vs_VwMZZPLE2n0cmHr0oqSgFzGL', chunking_strategy={'type': 'static', 'static': {'max_chunk_size_tokens': 800, 'chunk_overlap_tokens': 400}}), VectorStoreFile(id='file-MyyxS1VHkBQPQuJ6THPYH94S', created_at=1717765252, last_error=None, object='vector_store.file', status='completed', usage_bytes=720855, vector_store_id='vs_VwMZZPLE2n0cmHr0oqSgFzGL', chunking_strategy={'type': 'static', 'static': {'max_chunk_size_tokens': 800, 'chunk_overlap_tokens': 400}}), VectorStoreFile(id='file-DBWXLsIg8aNax7I7e8sfsq4l', created_at=1717765251, last_error=None, object='vector_store.file', status='completed', usage_bytes=692515, vector_store_id='vs_VwMZZPLE2n0cmHr0oqSgFzGL', chunking_strategy={'type': 'static', 'static': {'max_chunk_size_tokens': 800, 'chunk_overlap_tokens': 400}}), VectorStoreFile(id='file-2aXiNodOOINi9D0f5TCgPEHw', created_at=1717765251, last_error=None, object='vector_store.file', status='completed', usage_bytes=653941, vector_store_id='vs_VwMZZPLE2n0cmHr0oqSgFzGL', chunking_strategy={'type': 'static', 'static': {'max_chunk_size_tokens': 800, 'chunk_overlap_tokens': 400}}), VectorStoreFile(id='file-CwVkSX9hlB1BxxyesoUbkg9U', created_at=1717765250, last_error=None, object='vector_store.file', status='completed', usage_bytes=711640, vector_store_id='vs_VwMZZPLE2n0cmHr0oqSgFzGL', chunking_strategy={'type': 'static', 'static': {'max_chunk_size_tokens': 800, 'chunk_overlap_tokens': 400}}), VectorStoreFile(id='file-UMW3YLtChT4zvqivnjwzTO6D', created_at=1717765249, last_error=None, object='vector_store.file', status='completed', usage_bytes=726462, vector_store_id='vs_VwMZZPLE2n0cmHr0oqSgFzGL', chunking_strategy={'type': 'static', 'static': {'max_chunk_size_tokens': 800, 'chunk_overlap_tokens': 400}}), VectorStoreFile(id='file-Xs3FJ6raKSQ7LSezxWSq2sDp', created_at=1717765248, last_error=None, object='vector_store.file', status='completed', usage_bytes=681938, vector_store_id='vs_VwMZZPLE2n0cmHr0oqSgFzGL', chunking_strategy={'type': 'static', 'static': {'max_chunk_size_tokens': 800, 'chunk_overlap_tokens': 400}}), VectorStoreFile(id='file-NDYEdT0ZRRYOxdNpR5GPKws7', created_at=1717765247, last_error=None, object='vector_store.file', status='completed', usage_bytes=662617, vector_store_id='vs_VwMZZPLE2n0cmHr0oqSgFzGL', chunking_strategy={'type': 'static', 'static': {'max_chunk_size_tokens': 800, 'chunk_overlap_tokens': 400}}), VectorStoreFile(id='file-VR8jCgSHFWmY63JSn2n7oWkT', created_at=1717765246, last_error=None, object='vector_store.file', status='completed', usage_bytes=721496, vector_store_id='vs_VwMZZPLE2n0cmHr0oqSgFzGL', chunking_strategy={'type': 'static', 'static': {'max_chunk_size_tokens': 800, 'chunk_overlap_tokens': 400}}), VectorStoreFile(id='file-Mekxe2zazNQplX4csKSHZljt', created_at=1717765245, last_error=None, object='vector_store.file', status='completed', usage_bytes=715872, vector_store_id='vs_VwMZZPLE2n0cmHr0oqSgFzGL', chunking_strategy={'type': 'static', 'static': {'max_chunk_size_tokens': 800, 'chunk_overlap_tokens': 400}}), VectorStoreFile(id='file-NCOWOKjEDqbF10EUuJb4q32B', created_at=1717765244, last_error=None, object='vector_store.file', status='completed', usage_bytes=674354, vector_store_id='vs_VwMZZPLE2n0cmHr0oqSgFzGL', chunking_strategy={'type': 'static', 'static': {'max_chunk_size_tokens': 800, 'chunk_overlap_tokens': 400}}), VectorStoreFile(id='file-vT6vYy49aVk8TBhGU3WNy28p', created_at=1717765244, last_error=None, object='vector_store.file', status='completed', usage_bytes=726387, vector_store_id='vs_VwMZZPLE2n0cmHr0oqSgFzGL', chunking_strategy={'type': 'static', 'static': {'max_chunk_size_tokens': 800, 'chunk_overlap_tokens': 400}}), VectorStoreFile(id='file-5b3ajpvdP0cjVOMxk3rRpfeh', created_at=1717765243, last_error=None, object='vector_store.file', status='completed', usage_bytes=742453, vector_store_id='vs_VwMZZPLE2n0cmHr0oqSgFzGL', chunking_strategy={'type': 'static', 'static': {'max_chunk_size_tokens': 800, 'chunk_overlap_tokens': 400}}), VectorStoreFile(id='file-GvJLfj5drq1YhbU69Nedk1E0', created_at=1717765242, last_error=None, object='vector_store.file', status='completed', usage_bytes=664153, vector_store_id='vs_VwMZZPLE2n0cmHr0oqSgFzGL', chunking_strategy={'type': 'static', 'static': {'max_chunk_size_tokens': 800, 'chunk_overlap_tokens': 400}}), VectorStoreFile(id='file-rtnL23xzzQdx9AdErnTPiT84', created_at=1717765242, last_error=None, object='vector_store.file', status='completed', usage_bytes=668556, vector_store_id='vs_VwMZZPLE2n0cmHr0oqSgFzGL', chunking_strategy={'type': 'static', 'static': {'max_chunk_size_tokens': 800, 'chunk_overlap_tokens': 400}}), VectorStoreFile(id='file-V093G0WEVVGhAe9KCpGJFgbE', created_at=1717765240, last_error=None, object='vector_store.file', status='completed', usage_bytes=692026, vector_store_id='vs_VwMZZPLE2n0cmHr0oqSgFzGL', chunking_strategy={'type': 'static', 'static': {'max_chunk_size_tokens': 800, 'chunk_overlap_tokens': 400}}), VectorStoreFile(id='file-2Z5jpTepGefpsifvCLTlsk3w', created_at=1717765240, last_error=None, object='vector_store.file', status='completed', usage_bytes=678351, vector_store_id='vs_VwMZZPLE2n0cmHr0oqSgFzGL', chunking_strategy={'type': 'static', 'static': {'max_chunk_size_tokens': 800, 'chunk_overlap_tokens': 400}}), VectorStoreFile(id='file-22opSkPj2Zegq4NgTEVod7hm', created_at=1717765238, last_error=None, object='vector_store.file', status='completed', usage_bytes=726102, vector_store_id='vs_VwMZZPLE2n0cmHr0oqSgFzGL', chunking_strategy={'type': 'static', 'static': {'max_chunk_size_tokens': 800, 'chunk_overlap_tokens': 400}}), VectorStoreFile(id='file-U7apK85tNFI6JCcUDvKVc81Z', created_at=1717765238, last_error=None, object='vector_store.file', status='completed', usage_bytes=719200, vector_store_id='vs_VwMZZPLE2n0cmHr0oqSgFzGL', chunking_strategy={'type': 'static', 'static': {'max_chunk_size_tokens': 800, 'chunk_overlap_tokens': 400}}), VectorStoreFile(id='file-vE54vNiuNV4dk34Reb8uvvHm', created_at=1717765237, last_error=None, object='vector_store.file', status='completed', usage_bytes=720296, vector_store_id='vs_VwMZZPLE2n0cmHr0oqSgFzGL', chunking_strategy={'type': 'static', 'static': {'max_chunk_size_tokens': 800, 'chunk_overlap_tokens': 400}})], object='list', first_id='file-MUUy46T4HmjR1ylBCit5vpF5', last_id='file-vE54vNiuNV4dk34Reb8uvvHm', has_more=True)\n"
     ]
    }
   ],
   "source": [
    "vector_store_files = client.beta.vector_stores.files.list(\n",
    "  vector_store_id=\"vs_VwMZZPLE2n0cmHr0oqSgFzGL\"\n",
    ")\n",
    "print(vector_store_files)"
   ]
  },
  {
   "cell_type": "code",
   "execution_count": 18,
   "metadata": {},
   "outputs": [
    {
     "data": {
      "text/plain": [
       "30"
      ]
     },
     "execution_count": 18,
     "metadata": {},
     "output_type": "execute_result"
    }
   ],
   "source": [
    "len(list(vector_store_files))"
   ]
  },
  {
   "cell_type": "code",
   "execution_count": 2,
   "metadata": {},
   "outputs": [
    {
     "name": "stdout",
     "output_type": "stream",
     "text": [
      "Assistant(id='asst_O2HWobGq5XTAMxMJCt0bMiMT', created_at=1717830712, description=None, instructions='You have been given HTML documents of case studies of projects done for different companies in the past. You will be provided the about page of a website of a company that deals in a specific field of IT servicing. You are to provide the name of the company that corresponds to the most similar case study, and also 3 reasons why that case study is worth going through by the prospect that is, how it could be beneficial for them. in json format only. Example output: {\"url\":\"www.ABC.com\", \"points\":[\"We have helped ABC do X more efficiently which also could benefit you as you deal in similar fields\", \"We incorporated X into the ABC ecosystem... \", \" We helped ABC do this better, you could use it too.....\"]}', metadata={}, model='gpt-4o', name='GRITAE', object='assistant', tools=[FileSearchTool(type='file_search')], response_format='auto', temperature=1.0, tool_resources=ToolResources(code_interpreter=None, file_search=ToolResourcesFileSearch(vector_store_ids=['vs_VwMZZPLE2n0cmHr0oqSgFzGL'])), top_p=1.0)\n"
     ]
    }
   ],
   "source": [
    "from openai import OpenAI\n",
    "client = OpenAI()\n",
    "\n",
    "my_assistant = client.beta.assistants.create(\n",
    "    instructions=\"You have been given HTML documents of case studies of projects done for different companies in the past.\"\n",
    "    \" You will be provided the about page of a website of a company that deals in a specific field of IT servicing.\"\n",
    "    \" You are to provide the name of the company that corresponds to the most similar case study, \"\n",
    "    \"and also 3 reasons why that case study is worth going through by the prospect that is, how it could be beneficial for them.\"\n",
    "    \" in json format only. \" \n",
    "    \"Example output: {\\\"url\\\":\\\"www.ABC.com\\\", \\\"points\\\":[\\\"We have helped ABC do X more efficiently which also could benefit you as you deal in similar fields\\\", \\\"We incorporated X into the ABC ecosystem... \\\", \\\" We helped ABC do this better, you could use it too.....\\\"]}\",\n",
    "    name=\"GRITAE\",\n",
    "    tools=[{\"type\": \"file_search\"}],\n",
    "    model=\"gpt-4o\", \n",
    "    tool_resources={\n",
    "    \"file_search\": {\n",
    "      \"vector_store_ids\": [\"vs_VwMZZPLE2n0cmHr0oqSgFzGL\"]\n",
    "    },\n",
    "    }\n",
    ")\n",
    "print(my_assistant)"
   ]
  },
  {
   "cell_type": "code",
   "execution_count": 21,
   "metadata": {},
   "outputs": [
    {
     "name": "stdout",
     "output_type": "stream",
     "text": [
      "Assistant(id='asst_EdCxX673x1nFzLPZhlD3yUZW', created_at=1717768602, description=None, instructions='', metadata={}, model='gpt-4o', name='GRITAE2', object='assistant', tools=[], response_format='auto', temperature=1.0, tool_resources=ToolResources(code_interpreter=None, file_search=None), top_p=1.0)\n"
     ]
    }
   ],
   "source": [
    "from openai import OpenAI\n",
    "client = OpenAI()\n",
    "\n",
    "my_assistant = client.beta.assistants.create(\n",
    "    instructions=\"\",\n",
    "    name=\"GRITAE2\",\n",
    "    model=\"gpt-4o\",\n",
    ")\n",
    "print(my_assistant)"
   ]
  },
  {
   "cell_type": "code",
   "execution_count": 22,
   "metadata": {},
   "outputs": [],
   "source": [
    "thread = client.beta.threads.create()"
   ]
  },
  {
   "cell_type": "code",
   "execution_count": null,
   "metadata": {},
   "outputs": [],
   "source": [
    "run = client.beta.threads.runs.create_and_poll(\n",
    "    thread_id=thread.id,\n",
    "    assistant_id=\"asst_EdCxX673x1nFzLPZhlD3yUZW\",\n",
    "    model=\"gpt-4o\",\n",
    "    instructions=\"You will be given a list of endpoints of a particular website. You are to provide back the website link that is most likely to be the about page of the website. Return nothing but the link. The list is as follows: \"+str()\n",
    ")"
   ]
  },
  {
   "cell_type": "code",
   "execution_count": 11,
   "metadata": {},
   "outputs": [],
   "source": [
    "import re\n",
    "\n",
    "\n",
    "def extract_json_substring(text):\n",
    "    # Define the regex pattern to match content between ```json and ```, excluding the markers\n",
    "    pattern = r'```json\\s*(.*?)\\s*```'\n",
    "    match = re.search(pattern, text, re.DOTALL)\n",
    "    \n",
    "    if match:\n",
    "        # Extract and return the substring\n",
    "        return match.group(1).strip()\n",
    "    else:\n",
    "        # Return None if no match is found\n",
    "        return None"
   ]
  },
  {
   "cell_type": "code",
   "execution_count": 9,
   "metadata": {},
   "outputs": [],
   "source": [
    "from openai import OpenAI\n",
    "client = OpenAI()\n",
    "thread = client.beta.threads.create()\n",
    "run = client.beta.threads.runs.create_and_poll(\n",
    "    thread_id=thread.id,\n",
    "    assistant_id=my_assistant.id,\n",
    "    model=\"gpt-4o\",\n",
    "    instructions=\"You have been given HTML documents of case studies of projects done for different companies in the past.\"\n",
    "    \"Provide the name of the company that corresponds to the most similar case study for the prospect www.loops.so, its details are provided in the files,\"\n",
    "    \"and also 3 reasons why that case study is worth going through by the prospect that is, how it could be beneficial for them.\"\n",
    "    \" in json format only. \" \n",
    "    \"Example output: {\\\"case_study\\\":\\\"Fundrise\\\", \\\"points\\\":[\\\"We have helped ABC do X more efficiently which also could benefit you because...\\\", \\\"We incorporated X into the ABC ecosystem... \\\", \\\" We helped ABC do this better, you could use it too.....\\\"]}\"\n",
    "    )"
   ]
  },
  {
   "cell_type": "code",
   "execution_count": 12,
   "metadata": {},
   "outputs": [
    {
     "name": "stdout",
     "output_type": "stream",
     "text": [
      "{'case_study': 'Webex Events', 'points': ['Webex Events utilized Intercom to engage customers throughout their lifecycle, which could help Loops.so improve customer engagement and retention .', \"They successfully transitioned from in-person to virtual events with Intercom's help during the pandemic, highlighting the platform's flexibility and scalability, which would be beneficial for Loops.so in adapting to market changes .\", \"By leveraging Intercom's Custom Bots, Webex Events improved lead qualification by 154%, which Loops.so could also achieve to enhance their sales pipeline efficiency .\"]}\n"
     ]
    }
   ],
   "source": [
    "import json\n",
    "import re\n",
    "\n",
    "\n",
    "if run.status == \"completed\":\n",
    "        messages = client.beta.threads.messages.list(\n",
    "            thread_id=thread.id,\n",
    "            run_id=run.id\n",
    "        )\n",
    "        text = messages.data[0].content[0].text.value\n",
    "        text = extract_json_substring(text)\n",
    "        text = re.sub(r'【.*?】', '', text)\n",
    "        text = text.replace(\"```json\", \"\").replace(\"```\",\"\")\n",
    "        text = json.loads(text)\n",
    "        print(text)"
   ]
  },
  {
   "cell_type": "code",
   "execution_count": null,
   "metadata": {},
   "outputs": [],
   "source": []
  }
 ],
 "metadata": {
  "kernelspec": {
   "display_name": "Python 3",
   "language": "python",
   "name": "python3"
  },
  "language_info": {
   "codemirror_mode": {
    "name": "ipython",
    "version": 3
   },
   "file_extension": ".py",
   "mimetype": "text/x-python",
   "name": "python",
   "nbconvert_exporter": "python",
   "pygments_lexer": "ipython3",
   "version": "3.11.3"
  }
 },
 "nbformat": 4,
 "nbformat_minor": 2
}
